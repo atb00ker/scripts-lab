{
 "cells": [
  {
   "cell_type": "code",
   "execution_count": 1,
   "metadata": {},
   "outputs": [],
   "source": [
    "# Problem: https://www.hackerrank.com/challenges/crush/problem"
   ]
  },
  {
   "cell_type": "code",
   "execution_count": 2,
   "metadata": {},
   "outputs": [],
   "source": [
    "def arrayManipulation(n, queries):\n",
    "    arrayList = [0]* n\n",
    "    maxElementValue, elementValue = 0, 0\n",
    "    for query in queries:\n",
    "        arrayList[query[0]-1] += query[2]\n",
    "        if (query[1] < n):\n",
    "            arrayList[query[1]] -= query[2]\n",
    "    for element in arrayList:\n",
    "        elementValue += element\n",
    "        maxElementValue = max(maxElementValue, elementValue)\n",
    "    return maxElementValue"
   ]
  },
  {
   "cell_type": "code",
   "execution_count": 3,
   "metadata": {},
   "outputs": [],
   "source": [
    "# Input\n",
    "n = 5\n",
    "queries = [[1, 2, 100], [2, 5, 100], [3, 4, 100]]\n",
    "result = arrayManipulation(n, queries)"
   ]
  },
  {
   "cell_type": "code",
   "execution_count": 4,
   "metadata": {},
   "outputs": [
    {
     "name": "stdout",
     "output_type": "stream",
     "text": [
      "200\n"
     ]
    }
   ],
   "source": [
    "# Output\n",
    "print(result)"
   ]
  }
 ],
 "metadata": {
  "kernelspec": {
   "display_name": "Python 3",
   "language": "python",
   "name": "python3"
  },
  "language_info": {
   "codemirror_mode": {
    "name": "ipython",
    "version": 3
   },
   "file_extension": ".py",
   "mimetype": "text/x-python",
   "name": "python",
   "nbconvert_exporter": "python",
   "pygments_lexer": "ipython3",
   "version": "3.7.3"
  }
 },
 "nbformat": 4,
 "nbformat_minor": 4
}
