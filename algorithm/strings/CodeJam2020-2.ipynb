{
 "cells": [
  {
   "cell_type": "code",
   "execution_count": 1,
   "metadata": {},
   "outputs": [],
   "source": [
    "# Nesting Depth"
   ]
  },
  {
   "cell_type": "code",
   "execution_count": 2,
   "metadata": {},
   "outputs": [],
   "source": [
    "def startb(number):\n",
    "    braces = ''.join([\"(\" * number]) + str(number)\n",
    "    return braces\n",
    "\n",
    "def endb(number):\n",
    "    braces = ''.join([\")\" * number])\n",
    "    return braces\n",
    "\n",
    "def nestingDepth(brace_input):\n",
    "    prev_digit = int(brace_input[0])\n",
    "    output = startb(prev_digit)\n",
    "    opened = prev_digit \n",
    "    for brace_digit in brace_input[1:]:\n",
    "        digit = int(brace_digit)\n",
    "        if prev_digit == digit:\n",
    "            output += str(digit)\n",
    "            continue\n",
    "        if opened == digit:\n",
    "            output += startb(digit)\n",
    "            opened = digit\n",
    "        elif opened < digit:\n",
    "            output += endb(prev_digit)\n",
    "            output += startb(digit)\n",
    "            opened = digit\n",
    "        elif opened > digit:\n",
    "            closed = opened - digit\n",
    "            output += endb(closed)\n",
    "            opened = opened - closed\n",
    "            output += str(digit)\n",
    "        prev_digit = digit\n",
    "    \n",
    "    output += endb(opened)\n",
    "    return output\n",
    "\n",
    "# nestingDepth(brace_input)"
   ]
  },
  {
   "cell_type": "code",
   "execution_count": null,
   "metadata": {},
   "outputs": [],
   "source": [
    "# Input\n",
    "tests = int(input())\n",
    "# tests = 1\n",
    "for test in range(tests):\n",
    "    brace_input = str(input())\n",
    "    # brace_input = \"0212232201\"\n",
    "    output = nestingDepth(brace_input)\n",
    "    print(\"Case #{0}: {1}\".format(test+1, output))"
   ]
  }
 ],
 "metadata": {
  "kernelspec": {
   "display_name": "Python 3",
   "language": "python",
   "name": "python3"
  },
  "language_info": {
   "codemirror_mode": {
    "name": "ipython",
    "version": 3
   },
   "file_extension": ".py",
   "mimetype": "text/x-python",
   "name": "python",
   "nbconvert_exporter": "python",
   "pygments_lexer": "ipython3",
   "version": "3.7.3"
  }
 },
 "nbformat": 4,
 "nbformat_minor": 4
}
