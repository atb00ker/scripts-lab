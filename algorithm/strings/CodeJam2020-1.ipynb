{
 "cells": [
  {
   "cell_type": "code",
   "execution_count": 1,
   "metadata": {},
   "outputs": [],
   "source": [
    "# Vestigium"
   ]
  },
  {
   "cell_type": "code",
   "execution_count": 2,
   "metadata": {},
   "outputs": [],
   "source": [
    "def vestigium(mat, size):\n",
    "    trace, row_repeat, col_repeat = 0, 0, 0\n",
    "    for row in range(size):\n",
    "        trace += mat[row][row]\n",
    "        row_elements = set(mat[row])\n",
    "        if len(row_elements) != size:\n",
    "            row_repeat += 1\n",
    "        col_elements = set()\n",
    "        for col in range(size):\n",
    "            # print(row, col, mat[col][row])\n",
    "            col_elements.add(mat[col][row])\n",
    "        if len(col_elements) != size:\n",
    "            col_repeat += 1\n",
    "    return '{0} {1} {2}'.format(trace, row_repeat, col_repeat)"
   ]
  },
  {
   "cell_type": "code",
   "execution_count": null,
   "metadata": {},
   "outputs": [],
   "source": [
    "# Input\n",
    "tests = int(input())\n",
    "# tests = 1\n",
    "for test in range(tests):\n",
    "    size = int(input())\n",
    "    # size = 3\n",
    "    mat = [[] for _ in range(size)]\n",
    "    for row in range(size):\n",
    "        mat[row] = list(map(int, input().split()))\n",
    "    output = vestigium(mat,size)\n",
    "    print('Case #{0}: {1}'.format(test+1, output))"
   ]
  }
 ],
 "metadata": {
  "kernelspec": {
   "display_name": "Python 3",
   "language": "python",
   "name": "python3"
  },
  "language_info": {
   "codemirror_mode": {
    "name": "ipython",
    "version": 3
   },
   "file_extension": ".py",
   "mimetype": "text/x-python",
   "name": "python",
   "nbconvert_exporter": "python",
   "pygments_lexer": "ipython3",
   "version": "3.7.3"
  }
 },
 "nbformat": 4,
 "nbformat_minor": 4
}
